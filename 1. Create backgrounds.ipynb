{
 "cells": [
  {
   "cell_type": "code",
   "execution_count": 1,
   "metadata": {},
   "outputs": [],
   "source": [
    "import os\n",
    "import cv2\n",
    "from shutil import copyfile\n",
    "from tqdm import tqdm"
   ]
  },
  {
   "cell_type": "markdown",
   "metadata": {},
   "source": [
    "So basically we want to change the aspect ratio of our images to 16:9 because that's what the camera image is at"
   ]
  },
  {
   "cell_type": "code",
   "execution_count": 2,
   "metadata": {
    "scrolled": true
   },
   "outputs": [
    {
     "name": "stderr",
     "output_type": "stream",
     "text": [
      "100%|██████████| 20833/20833 [02:09<00:00, 161.45it/s]"
     ]
    },
    {
     "name": "stdout",
     "output_type": "stream",
     "text": [
      "done!\n"
     ]
    },
    {
     "name": "stderr",
     "output_type": "stream",
     "text": [
      "\n"
     ]
    }
   ],
   "source": [
    "BG_DIR = \"backgrounds\"\n",
    "OUT_DIR = os.path.join(\"backgrounds\", \"resize\")\n",
    "\n",
    "# Load our background paths\n",
    "bg_paths = [x for x in os.listdir(BG_DIR) if os.path.splitext(x)[1] == \".jpg\"]\n",
    "\n",
    "TARGET_RATIO = 16/9\n",
    "\n",
    "for bg_path in tqdm(bg_paths):\n",
    "    bg = cv2.imread(os.path.join(BG_DIR, bg_path))\n",
    "    h, w = bg.shape[:2]\n",
    "    \n",
    "    # Rotate image 90 degrees clockwise if width is less than height\n",
    "    if w < h:\n",
    "        bg=cv2.rotate(bg, cv2.ROTATE_90_CLOCKWISE) \n",
    "        \n",
    "    # Find ratio of our image\n",
    "    bg_ratio = w/h\n",
    "    \n",
    "    if round(bg_ratio, 1) == round(TARGET_RATIO, 1):\n",
    "        copyfile(os.path.join(BG_DIR, bg_path), os.path.join(OUT_DIR, bg_path))\n",
    "        continue\n",
    "    \n",
    "    if bg_ratio > TARGET_RATIO:\n",
    "        new_h = int(w/TARGET_RATIO)\n",
    "        \n",
    "        # ignore images under 512 pixels in height\n",
    "        if new_h < 512:\n",
    "            continue\n",
    "        bg = cv2.resize(bg, (w, new_h), interpolation=cv2.INTER_CUBIC)\n",
    "    if bg_ratio < TARGET_RATIO:\n",
    "        # ignore images under 512 pixels in height\n",
    "        if h < 512:\n",
    "            continue\n",
    "        new_w = int(h*TARGET_RATIO)\n",
    "        bg = cv2.resize(bg, (new_w, h), interpolation=cv2.INTER_CUBIC)\n",
    "    cv2.imwrite(os.path.join(OUT_DIR, bg_path), bg)        \n",
    "print(\"done!\")"
   ]
  },
  {
   "cell_type": "markdown",
   "metadata": {},
   "source": [
    "Now that everything is a 16:9 aspect ratio, let's explore our distribution of image sizes"
   ]
  },
  {
   "cell_type": "code",
   "execution_count": 3,
   "metadata": {},
   "outputs": [],
   "source": [
    "from matplotlib import pyplot as plt\n",
    "import numpy as np\n",
    "%matplotlib inline"
   ]
  },
  {
   "cell_type": "code",
   "execution_count": 4,
   "metadata": {},
   "outputs": [
    {
     "name": "stdout",
     "output_type": "stream",
     "text": [
      "20833\n"
     ]
    }
   ],
   "source": [
    "\n",
    "bg_paths = [os.path.join(BG_DIR, x) for x in os.listdir(BG_DIR) if os.path.splitext(x)[1] == \".jpg\"]\n",
    "bg_widths = np.array([cv2.imread(x, 0).shape[1] for x in bg_paths])\n",
    "print(len(bg_widths))\n",
    "\n"
   ]
  },
  {
   "cell_type": "code",
   "execution_count": 5,
   "metadata": {},
   "outputs": [
    {
     "data": {
      "image/png": "[encoded data removed]",
      "text/plain": [
       "<Figure size 432x288 with 1 Axes>"
      ]
     },
     "metadata": {
      "needs_background": "light"
     },
     "output_type": "display_data"
    }
   ],
   "source": [
    "plt.hist(bg_widths, bins=30)\n",
    "plt.xlabel('Image width');\n",
    "plt.ylabel('Count');\n",
    "plt.show()"
   ]
  },
  {
   "cell_type": "code",
   "execution_count": 28,
   "metadata": {},
   "outputs": [
    {
     "data": {
      "text/plain": [
       "15958"
      ]
     },
     "execution_count": 28,
     "metadata": {},
     "output_type": "execute_result"
    }
   ],
   "source": [
    "len(bg_widths[bg_widths>512])"
   ]
  },
  {
   "cell_type": "code",
   "execution_count": null,
   "metadata": {},
   "outputs": [],
   "source": []
  },
  {
   "cell_type": "code",
   "execution_count": null,
   "metadata": {},
   "outputs": [],
   "source": []
  }
 ],
 "metadata": {
  "kernelspec": {
   "display_name": "Python 3",
   "language": "python",
   "name": "python3"
  },
  "language_info": {
   "codemirror_mode": {
    "name": "ipython",
    "version": 3
   },
   "file_extension": ".py",
   "mimetype": "text/x-python",
   "name": "python",
   "nbconvert_exporter": "python",
   "pygments_lexer": "ipython3",
   "version": "3.5.2"
  }
 },
 "nbformat": 4,
 "nbformat_minor": 2
}
