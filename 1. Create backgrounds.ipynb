{
 "cells": [
  {
   "cell_type": "code",
   "execution_count": 11,
   "metadata": {},
   "outputs": [],
   "source": [
    "import os\n",
    "import cv2\n",
    "from shutil import copyfile\n",
    "from tqdm import tqdm_notebook as tqdm"
   ]
  },
  {
   "cell_type": "markdown",
   "metadata": {},
   "source": [
    "## So basically \n",
    "we want to change the aspect ratio of our images to 16:9 because that's what the camera image is at"
   ]
  },
  {
   "cell_type": "code",
   "execution_count": 2,
   "metadata": {},
   "outputs": [],
   "source": [
    "BG_DIR = \"backgrounds\"\n",
    "OUT_DIR = os.path.join(\"backgrounds\", \"resize\")"
   ]
  },
  {
   "cell_type": "code",
   "execution_count": 3,
   "metadata": {
    "scrolled": false
   },
   "outputs": [
    {
     "name": "stdout",
     "output_type": "stream",
     "text": [
      "Rescaling images...\n"
     ]
    },
    {
     "data": {
      "application/vnd.jupyter.widget-view+json": {
       "model_id": "c5a8e1aa19bc4624a9838784f3160d53",
       "version_major": 2,
       "version_minor": 0
      },
      "text/plain": [
       "HBox(children=(IntProgress(value=0, max=20833), HTML(value='')))"
      ]
     },
     "metadata": {},
     "output_type": "display_data"
    },
    {
     "name": "stdout",
     "output_type": "stream",
     "text": [
      "\n",
      "done!\n"
     ]
    }
   ],
   "source": [
    "# Load our background paths\n",
    "bg_paths = [x for x in os.listdir(BG_DIR) if os.path.splitext(x)[1] == \".jpg\"]\n",
    "\n",
    "TARGET_RATIO = 16/9\n",
    "\n",
    "print(\"Rescaling %d images...\" % len(bg_paths))\n",
    "for bg_path in tqdm(bg_paths):\n",
    "    bg = cv2.imread(os.path.join(BG_DIR, bg_path))\n",
    "    h, w = bg.shape[:2]\n",
    "    \n",
    "    if round(w/h, 1) == round(TARGET_RATIO, 1):\n",
    "        copyfile(os.path.join(BG_DIR, bg_path), os.path.join(OUT_DIR, bg_path))\n",
    "        continue\n",
    "    \n",
    "    # Rotate image 90 degrees clockwise if width is less than height\n",
    "    if w < h:\n",
    "        bg = cv2.rotate(bg, cv2.ROTATE_90_CLOCKWISE) \n",
    "        h, w = bg.shape[:2]\n",
    "    \n",
    "    if w/h > TARGET_RATIO:\n",
    "        new_h = int(w/TARGET_RATIO)\n",
    "        \n",
    "        # ignore images under 512 pixels in height\n",
    "        if new_h < 512:\n",
    "            continue\n",
    "        bg = cv2.resize(bg, (w, new_h), interpolation=cv2.INTER_CUBIC)\n",
    "    if w/h < TARGET_RATIO:\n",
    "        # ignore images under 512 pixels in height\n",
    "        if h < 512:\n",
    "            continue\n",
    "        new_w = int(h*TARGET_RATIO)\n",
    "        bg = cv2.resize(bg, (new_w, h), interpolation=cv2.INTER_CUBIC)\n",
    "    cv2.imwrite(os.path.join(OUT_DIR, bg_path), bg)        \n",
    "\n",
    "print(\"done!\")"
   ]
  },
  {
   "cell_type": "markdown",
   "metadata": {},
   "source": [
    "Now that everything is a 16:9 aspect ratio, let's explore our distribution of image sizes"
   ]
  },
  {
   "cell_type": "code",
   "execution_count": 4,
   "metadata": {},
   "outputs": [],
   "source": [
    "import numpy as np\n",
    "from PIL import Image\n",
    "from matplotlib import pyplot as plt\n",
    "\n",
    "%matplotlib inline"
   ]
  },
  {
   "cell_type": "code",
   "execution_count": 8,
   "metadata": {},
   "outputs": [
    {
     "name": "stdout",
     "output_type": "stream",
     "text": [
      "Getting image dimensions...\n"
     ]
    },
    {
     "data": {
      "application/vnd.jupyter.widget-view+json": {
       "model_id": "327450f5831240c7adfdd692c75dcadf",
       "version_major": 2,
       "version_minor": 0
      },
      "text/plain": [
       "HBox(children=(IntProgress(value=0, max=18686), HTML(value='')))"
      ]
     },
     "metadata": {},
     "output_type": "display_data"
    },
    {
     "name": "stdout",
     "output_type": "stream",
     "text": [
      "\n",
      "18686 images\n"
     ]
    }
   ],
   "source": [
    "print(\"Getting image dimensions...\")\n",
    "\n",
    "bg_paths = [os.path.join(OUT_DIR, x) for x in os.listdir(OUT_DIR) if os.path.splitext(x)[1] == \".jpg\"]\n",
    "\n",
    "im_dims = []\n",
    "for bg_path in tqdm(bg_paths):\n",
    "    im = Image.open(bg_path) # PIL doesn't load image into memory, goes fast\n",
    "    w, h = im.size\n",
    "    im_dims.append({'path': bg_path, 'width': w, 'height': h})\n",
    "\n",
    "im_dims = np.array(im_dims)\n",
    "print(len(im_dims), \"images\")"
   ]
  },
  {
   "cell_type": "markdown",
   "metadata": {},
   "source": [
    "Now let's double check that all the images have a 16:9 aspect ratio"
   ]
  },
  {
   "cell_type": "code",
   "execution_count": 7,
   "metadata": {},
   "outputs": [
    {
     "name": "stdout",
     "output_type": "stream",
     "text": [
      "Max: 1.849609375 Min: 1.75\n"
     ]
    },
    {
     "data": {
      "image/png": "[encoded data removed]",
      "text/plain": [
       "<Figure size 432x288 with 1 Axes>"
      ]
     },
     "metadata": {
      "needs_background": "light"
     },
     "output_type": "display_data"
    }
   ],
   "source": [
    "im_ratios = [x['width']/x['height'] for x in im_dims]\n",
    "print(\"Max:\", max(im_ratios), \"Min:\", min(im_ratios))\n",
    "\n",
    "plt.hist(im_ratios, bins=30)\n",
    "plt.xlabel('Image aspect ratio');\n",
    "plt.ylabel('Count');\n",
    "plt.show()"
   ]
  },
  {
   "cell_type": "markdown",
   "metadata": {},
   "source": [
    "Sure enough, our code worked!\n",
    "\n",
    "Now let's view the distribution of our image sizes. To do that we'll plot a histogram of image widths."
   ]
  },
  {
   "cell_type": "code",
   "execution_count": 10,
   "metadata": {},
   "outputs": [
    {
     "name": "stdout",
     "output_type": "stream",
     "text": [
      "Max: 3158 Min: 400\n"
     ]
    },
    {
     "data": {
      "image/png": "[encoded data removed]",
      "text/plain": [
       "<Figure size 432x288 with 1 Axes>"
      ]
     },
     "metadata": {
      "needs_background": "light"
     },
     "output_type": "display_data"
    }
   ],
   "source": [
    "im_widths = [x['width'] for x in im_dims]\n",
    "print(\"Max:\", max(im_widths), \"Min:\", min(im_widths))\n",
    "\n",
    "plt.hist(im_widths, bins=80)\n",
    "plt.xlabel('Image width');\n",
    "plt.ylabel('Count');\n",
    "plt.show()"
   ]
  },
  {
   "cell_type": "code",
   "execution_count": 28,
   "metadata": {
    "scrolled": true
   },
   "outputs": [
    {
     "data": {
      "text/plain": [
       "15958"
      ]
     },
     "execution_count": 28,
     "metadata": {},
     "output_type": "execute_result"
    }
   ],
   "source": [
    "len(bg_widths[bg_widths>512])"
   ]
  },
  {
   "cell_type": "code",
   "execution_count": 9,
   "metadata": {},
   "outputs": [
    {
     "name": "stdout",
     "output_type": "stream",
     "text": [
      "backgrounds/resize/Places365_val_00017699.jpg 0.562019758507135\n",
      "backgrounds/resize/Places365_val_00023396.jpg 0.562019758507135\n",
      "backgrounds/resize/Places365_val_00026954.jpg 0.562019758507135\n",
      "backgrounds/resize/Places365_val_00031760.jpg 0.5632563256325632\n",
      "backgrounds/resize/Places365_val_00007094.jpg 0.5638766519823789\n",
      "backgrounds/resize/Places365_val_00023043.jpg 0.5601750547045952\n",
      "backgrounds/resize/Places365_val_00007031.jpg 0.562019758507135\n",
      "backgrounds/resize/Places365_val_00023874.jpg 0.562019758507135\n",
      "backgrounds/resize/Places365_val_00008842.jpg 0.5614035087719298\n",
      "backgrounds/resize/Places365_val_00031742.jpg 0.5707915273132664\n",
      "backgrounds/resize/Places365_val_00004454.jpg 0.562429696287964\n",
      "backgrounds/resize/Places365_val_00010718.jpg 0.5614035087719298\n",
      "backgrounds/resize/Places365_val_00015298.jpg 0.5638766519823789\n",
      "backgrounds/resize/Places365_val_00023557.jpg 0.562019758507135\n",
      "backgrounds/resize/Places365_val_00019729.jpg 0.5663716814159292\n",
      "backgrounds/resize/Places365_val_00011270.jpg 0.5663716814159292\n",
      "backgrounds/resize/Places365_val_00031718.jpg 0.5614035087719298\n",
      "backgrounds/resize/Places365_val_00035240.jpg 0.5630630630630631\n",
      "backgrounds/resize/Places365_val_00012421.jpg 0.5688888888888889\n",
      "backgrounds/resize/Places365_val_00019932.jpg 0.5614035087719298\n",
      "backgrounds/resize/Places365_val_00032345.jpg 0.5632563256325632\n",
      "backgrounds/resize/Places365_val_00004985.jpg 0.562019758507135\n",
      "backgrounds/resize/Places365_val_00036010.jpg 0.562019758507135\n",
      "backgrounds/resize/Places365_val_00035228.jpg 0.5632563256325632\n",
      "backgrounds/resize/Places365_val_00031684.jpg 0.562019758507135\n",
      "backgrounds/resize/Places365_val_00028030.jpg 0.562019758507135\n",
      "backgrounds/resize/Places365_val_00003986.jpg 0.5632563256325632\n",
      "backgrounds/resize/Places365_val_00034318.jpg 0.5614035087719298\n",
      "backgrounds/resize/Places365_val_00016348.jpg 0.5614035087719298\n",
      "backgrounds/resize/Places365_val_00020161.jpg 0.562019758507135\n",
      "backgrounds/resize/Places365_val_00026843.jpg 0.5632563256325632\n",
      "backgrounds/resize/Places365_val_00024846.jpg 0.5458422174840085\n",
      "backgrounds/resize/Places365_val_00001219.jpg 0.562019758507135\n",
      "backgrounds/resize/Places365_val_00001165.jpg 0.5553145336225597\n",
      "backgrounds/resize/Places365_val_00001294.jpg 0.5614035087719298\n",
      "backgrounds/resize/Places365_val_00002513.jpg 0.5614035087719298\n",
      "backgrounds/resize/Places365_val_00021113.jpg 0.562019758507135\n",
      "backgrounds/resize/Places365_val_00021830.jpg 0.5632563256325632\n",
      "backgrounds/resize/Places365_val_00033311.jpg 0.562019758507135\n",
      "backgrounds/resize/Places365_val_00020920.jpg 0.562019758507135\n",
      "backgrounds/resize/Places365_val_00031192.jpg 0.5707915273132664\n",
      "backgrounds/resize/Places365_val_00032906.jpg 0.5676274944567627\n",
      "backgrounds/resize/Places365_val_00016746.jpg 0.5701559020044543\n",
      "backgrounds/resize/Places365_val_00028431.jpg 0.5614035087719298\n",
      "backgrounds/resize/Places365_val_00000985.jpg 0.562019758507135\n",
      "backgrounds/resize/Places365_val_00031051.jpg 0.5614035087719298\n",
      "backgrounds/resize/Places365_val_00034288.jpg 0.562019758507135\n",
      "backgrounds/resize/Places365_val_00020381.jpg 0.562019758507135\n",
      "backgrounds/resize/Places365_val_00033902.jpg 0.5417989417989418\n",
      "backgrounds/resize/Places365_val_00021093.jpg 0.5663716814159292\n",
      "backgrounds/resize/Places365_val_00029055.jpg 0.562019758507135\n",
      "backgrounds/resize/Places365_val_00010226.jpg 0.562019758507135\n",
      "backgrounds/resize/Places365_val_00003406.jpg 0.5614035087719298\n",
      "backgrounds/resize/Places365_val_00002293.jpg 0.5632563256325632\n",
      "backgrounds/resize/Places365_val_00036139.jpg 0.5565217391304348\n",
      "backgrounds/resize/Places365_val_00028223.jpg 0.5614035087719298\n",
      "backgrounds/resize/Places365_val_00014163.jpg 0.5614035087719298\n",
      "backgrounds/resize/Places365_val_00017479.jpg 0.5487674169346195\n",
      "backgrounds/resize/Places365_val_00021724.jpg 0.562019758507135\n",
      "backgrounds/resize/Places365_val_00035975.jpg 0.56078860898138\n",
      "backgrounds/resize/Places365_val_00016737.jpg 0.5632563256325632\n"
     ]
    }
   ],
   "source": [
    "for x in im_dims:\n",
    "    asp_rat = x['width']/x['height']\n",
    "    if round(asp_rat, 1) != round(16/9, 1):\n",
    "        print(x['path'], asp_rat)"
   ]
  },
  {
   "cell_type": "code",
   "execution_count": null,
   "metadata": {},
   "outputs": [],
   "source": []
  }
 ],
 "metadata": {
  "kernelspec": {
   "display_name": "Python 3",
   "language": "python",
   "name": "python3"
  },
  "language_info": {
   "codemirror_mode": {
    "name": "ipython",
    "version": 3
   },
   "file_extension": ".py",
   "mimetype": "text/x-python",
   "name": "python",
   "nbconvert_exporter": "python",
   "pygments_lexer": "ipython3",
   "version": "3.5.2"
  }
 },
 "nbformat": 4,
 "nbformat_minor": 2
}
